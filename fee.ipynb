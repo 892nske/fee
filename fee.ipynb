{
 "cells": [
  {
   "cell_type": "code",
   "execution_count": 1,
   "metadata": {},
   "outputs": [],
   "source": [
    "import pandas as pd\n",
    "import numpy as np"
   ]
  },
  {
   "cell_type": "code",
   "execution_count": 2,
   "metadata": {},
   "outputs": [],
   "source": [
    "fee_rate = pd.read_csv('feerate.csv')"
   ]
  },
  {
   "cell_type": "code",
   "execution_count": 3,
   "metadata": {},
   "outputs": [],
   "source": [
    "sucfeerate = 0.11"
   ]
  },
  {
   "cell_type": "code",
   "execution_count": 4,
   "metadata": {},
   "outputs": [],
   "source": [
    "def feecal(value,fee_rate,rem):\n",
    "    fee = 0\n",
    "    g = value\n",
    "    lor = 0\n",
    "    \n",
    "    rate = fee_rate[['upr',rem]]\n",
    "    rate.columns = ['upr', 'rate']\n",
    "    \n",
    "    for fr in rate.itertuples():\n",
    "        if value <= fr.upr:\n",
    "            fee = fee + g * fr.rate\n",
    "            break\n",
    "        else:\n",
    "            fee = fee + (fr.upr - lor) * fr.rate\n",
    "            g = value - fr.upr\n",
    "            lor = fr.upr\n",
    "    return fee"
   ]
  },
  {
   "cell_type": "code",
   "execution_count": 5,
   "metadata": {},
   "outputs": [],
   "source": [
    "g_test = [10000000,50000000,50050000,100000000,100050000,300000000,300050000,500000000,500050000,1000000000,1000050000]"
   ]
  },
  {
   "cell_type": "code",
   "execution_count": 6,
   "metadata": {},
   "outputs": [
    {
     "name": "stdout",
     "output_type": "stream",
     "text": [
      "10000000\t|\t132000.0\n",
      "50000000\t|\t660000.0\n",
      "50050000\t|\t660550.0\n",
      "100000000\t|\t1210000.0\n",
      "100050000\t|\t1210440.0\n",
      "300000000\t|\t2970000.0\n",
      "300050000\t|\t2970247.5\n",
      "500000000\t|\t3960000.0\n",
      "500050000\t|\t3960178.75\n",
      "1000000000\t|\t5747500.0\n",
      "1000050000\t|\t5747610.0\n"
     ]
    }
   ],
   "source": [
    "for gt in g_test:\n",
    "    print(str(gt) + '\\t|\\t' + str(feecal(gt,fee_rate,'const')))\n",
    "#     print(feecal(gt,fee_rate,'const'))"
   ]
  },
  {
   "cell_type": "code",
   "execution_count": 86,
   "metadata": {},
   "outputs": [],
   "source": [
    "pl = pd.DataFrame(np.arange(101)/1000, columns=['return'])"
   ]
  },
  {
   "cell_type": "code",
   "execution_count": 87,
   "metadata": {},
   "outputs": [],
   "source": [
    "pl['ganpon'] = 10000000"
   ]
  },
  {
   "cell_type": "code",
   "execution_count": 88,
   "metadata": {},
   "outputs": [],
   "source": [
    "pl['end'] = pl['ganpon'] * pl['return'] + pl['ganpon']"
   ]
  },
  {
   "cell_type": "code",
   "execution_count": 93,
   "metadata": {},
   "outputs": [],
   "source": [
    "pl['fee_const'] = 0\n",
    "pl['fee_fluct'] = 0"
   ]
  },
  {
   "cell_type": "code",
   "execution_count": 94,
   "metadata": {},
   "outputs": [],
   "source": [
    "for index, row in pl.iterrows():\n",
    "    pl.at[index, 'fee_const'] = feecal(pl.at[index, 'end'],fee_rate,'const')"
   ]
  },
  {
   "cell_type": "code",
   "execution_count": 95,
   "metadata": {},
   "outputs": [],
   "source": [
    "for index, row in pl.iterrows():\n",
    "    pl.at[index, 'fee_fluct'] = feecal(pl.at[index, 'end'],fee_rate,'fluct') + (pl.at[index, 'end']-pl.at[index, 'ganpon'])*sucfeerate"
   ]
  },
  {
   "cell_type": "code",
   "execution_count": 97,
   "metadata": {},
   "outputs": [],
   "source": [
    "pl['dif'] = pl['fee_const'] - pl['fee_fluct'] \n",
    "pl['dif'] = pl['dif']/abs(pl['dif'])"
   ]
  },
  {
   "cell_type": "code",
   "execution_count": 99,
   "metadata": {},
   "outputs": [],
   "source": [
    "pl['dif2'] = pl['dif'].diff()"
   ]
  },
  {
   "cell_type": "code",
   "execution_count": 98,
   "metadata": {},
   "outputs": [],
   "source": [
    "d = pl['dif'].diff()"
   ]
  },
  {
   "cell_type": "code",
   "execution_count": 106,
   "metadata": {},
   "outputs": [
    {
     "name": "stdout",
     "output_type": "stream",
     "text": [
      "0.021\n"
     ]
    }
   ],
   "source": [
    "p = pl[pl['dif2'] == -2]\n",
    "pv = p['return'].values[0]\n",
    "print(pv)"
   ]
  },
  {
   "cell_type": "code",
   "execution_count": 7,
   "metadata": {},
   "outputs": [],
   "source": [
    "def break_even_point(ganpon,fee_rate):\n",
    "    pl = pd.DataFrame(np.arange(1001)/10000, columns=['return'])\n",
    "    pl['ganpon'] = ganpon\n",
    "    pl['end'] = pl['ganpon'] * pl['return'] + pl['ganpon']\n",
    "    pl['fee_const'] = 0\n",
    "    pl['fee_fluct'] = 0\n",
    "    \n",
    "    for index, row in pl.iterrows():\n",
    "        pl.at[index, 'fee_const'] = feecal(pl.at[index, 'end'],fee_rate,'const')\n",
    "    \n",
    "    for index, row in pl.iterrows():\n",
    "        pl.at[index, 'fee_fluct'] = feecal(pl.at[index, 'end'],fee_rate,'fluct') + (pl.at[index, 'end']-pl.at[index, 'ganpon'])*sucfeerate\n",
    "    \n",
    "    pl['dif'] = pl['fee_const'] - pl['fee_fluct'] \n",
    "    pl['dif'] = pl['dif']/abs(pl['dif'])\n",
    "    pl['dif2'] = pl['dif'].diff()\n",
    "    p = pl[pl['dif2'] == -2]\n",
    "    pv = p['return'].values[0]\n",
    "    return pv"
   ]
  },
  {
   "cell_type": "code",
   "execution_count": 8,
   "metadata": {},
   "outputs": [],
   "source": [
    "pl = pd.DataFrame(np.arange(1001)/10000, columns=['return'])"
   ]
  },
  {
   "cell_type": "code",
   "execution_count": 9,
   "metadata": {},
   "outputs": [
    {
     "name": "stdout",
     "output_type": "stream",
     "text": [
      "0.0088\n"
     ]
    }
   ],
   "source": [
    "print(break_even_point(1000000000,fee_rate))"
   ]
  },
  {
   "cell_type": "code",
   "execution_count": 10,
   "metadata": {},
   "outputs": [],
   "source": [
    "bep = pd.DataFrame(np.arange(100)*10000000+10000000, columns=['ganpon'])"
   ]
  },
  {
   "cell_type": "code",
   "execution_count": 11,
   "metadata": {},
   "outputs": [],
   "source": [
    "bep['point'] = 0.00"
   ]
  },
  {
   "cell_type": "code",
   "execution_count": 12,
   "metadata": {},
   "outputs": [],
   "source": [
    "for index, row in bep.iterrows():\n",
    "    bep.at[index, 'point'] = break_even_point(bep.at[index, 'ganpon'],fee_rate)"
   ]
  },
  {
   "cell_type": "code",
   "execution_count": 21,
   "metadata": {},
   "outputs": [],
   "source": [
    "import matplotlib as mpl\n",
    "import matplotlib.pyplot as plt\n",
    "import japanize_matplotlib"
   ]
  },
  {
   "cell_type": "code",
   "execution_count": 30,
   "metadata": {},
   "outputs": [
    {
     "data": {
      "text/plain": [
       "[<matplotlib.lines.Line2D at 0x7f302c60cfd0>]"
      ]
     },
     "execution_count": 30,
     "metadata": {},
     "output_type": "execute_result"
    },
    {
     "data": {
      "image/png": "[encoded data removed]",
      "text/plain": [
       "<Figure size 432x288 with 1 Axes>"
      ]
     },
     "metadata": {
      "needs_background": "light"
     },
     "output_type": "display_data"
    }
   ],
   "source": [
    "fig = plt.figure()\n",
    "ax = fig.add_subplot(111, xlabel='元本 [百万円]', ylabel='分岐点となる収益率 [%]')\n",
    "\n",
    "ax.plot(bep['ganpon']/1000000, bep['point']*100)"
   ]
  },
  {
   "cell_type": "code",
   "execution_count": 15,
   "metadata": {},
   "outputs": [
    {
     "name": "stdout",
     "output_type": "stream",
     "text": [
      "880000.0\n"
     ]
    }
   ],
   "source": [
    "g = 70000000\n",
    "print(feecal(g,fee_rate,'const'))"
   ]
  },
  {
   "cell_type": "code",
   "execution_count": 16,
   "metadata": {},
   "outputs": [],
   "source": [
    "gs = pd.DataFrame(np.arange(100)*10000000+10000000, columns=['ganpon'])\n",
    "gs['fee_const'] = 0\n",
    "gs['fee_fluct'] = 0\n",
    "for index, row in gs.iterrows():\n",
    "    gs.at[index, 'fee_const'] = feecal(gs.at[index, 'ganpon'],fee_rate,'const')\n",
    "for index, row in gs.iterrows():\n",
    "    gs.at[index, 'fee_fluct'] = feecal(gs.at[index, 'ganpon'],fee_rate,'fluct')\n",
    "gs['rate_const'] = gs['fee_const']/gs['ganpon']\n",
    "gs['rate_fluct'] = gs['fee_fluct']/gs['ganpon']"
   ]
  },
  {
   "cell_type": "code",
   "execution_count": 31,
   "metadata": {},
   "outputs": [
    {
     "data": {
      "text/plain": [
       "[<matplotlib.lines.Line2D at 0x7f302c54fc50>]"
      ]
     },
     "execution_count": 31,
     "metadata": {},
     "output_type": "execute_result"
    },
    {
     "data": {
      "image/png": "[encoded data removed]",
      "text/plain": [
       "<Figure size 432x288 with 1 Axes>"
      ]
     },
     "metadata": {
      "needs_background": "light"
     },
     "output_type": "display_data"
    }
   ],
   "source": [
    "fig = plt.figure()\n",
    "ax = fig.add_subplot(111, xlabel='元本 [万円]', ylabel='フィー率 [%]')\n",
    "\n",
    "ax.plot(gs['ganpon']/10000,gs['rate_const']*100)\n",
    "ax.plot(gs['ganpon']/10000,gs['rate_fluct']*100)"
   ]
  },
  {
   "cell_type": "code",
   "execution_count": null,
   "metadata": {},
   "outputs": [],
   "source": []
  }
 ],
 "metadata": {
  "kernelspec": {
   "display_name": "Python 3",
   "language": "python",
   "name": "python3"
  },
  "language_info": {
   "codemirror_mode": {
    "name": "ipython",
    "version": 3
   },
   "file_extension": ".py",
   "mimetype": "text/x-python",
   "name": "python",
   "nbconvert_exporter": "python",
   "pygments_lexer": "ipython3",
   "version": "3.7.9"
  }
 },
 "nbformat": 4,
 "nbformat_minor": 4
}
