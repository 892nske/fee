{
 "cells": [
  {
   "cell_type": "code",
   "execution_count": 1,
   "metadata": {},
   "outputs": [],
   "source": [
    "import pandas as pd"
   ]
  },
  {
   "cell_type": "code",
   "execution_count": 16,
   "metadata": {},
   "outputs": [],
   "source": [
    "fee_rate = pd.read_csv('feerate.csv')"
   ]
  },
  {
   "cell_type": "code",
   "execution_count": null,
   "metadata": {},
   "outputs": [],
   "source": [
    "def feecal(value,fee_rate,rem):\n",
    "    reng = fee_rate['範囲']"
   ]
  },
  {
   "cell_type": "code",
   "execution_count": 6,
   "metadata": {},
   "outputs": [],
   "source": [
    "reng = fee_rate['範囲']"
   ]
  },
  {
   "cell_type": "code",
   "execution_count": 10,
   "metadata": {},
   "outputs": [
    {
     "name": "stdout",
     "output_type": "stream",
     "text": [
      "0\n",
      "1\n",
      "1\n",
      "1\n",
      "1\n",
      "1\n"
     ]
    }
   ],
   "source": [
    "g = 100000000\n",
    "for r in reng:\n",
    "    if g <= r:\n",
    "        print(1)\n",
    "        \n",
    "    else:\n",
    "        print(0)"
   ]
  },
  {
   "cell_type": "code",
   "execution_count": 46,
   "metadata": {},
   "outputs": [
    {
     "name": "stdout",
     "output_type": "stream",
     "text": [
      "100050000\n",
      "1320440.0\n"
     ]
    }
   ],
   "source": [
    "rem = 'const'\n",
    "fee = 0\n",
    "ganpon = 100050000\n",
    "g = ganpon\n",
    "\n",
    "rate = fee_rate[['upr',rem]]\n",
    "rate.columns = ['upr', 'rate']\n",
    "\n",
    "for fr in rate.itertuples():\n",
    "    if ganpon <= fr.upr:\n",
    "        fee = fee + g * fr.rate\n",
    "        break\n",
    "    else:\n",
    "        fee = fee + fr.upr * fr.rate\n",
    "        g = g - fr.upr\n",
    "\n",
    "print(ganpon)\n",
    "print(fee)"
   ]
  },
  {
   "cell_type": "code",
   "execution_count": 28,
   "metadata": {},
   "outputs": [],
   "source": []
  },
  {
   "cell_type": "code",
   "execution_count": 30,
   "metadata": {},
   "outputs": [],
   "source": []
  },
  {
   "cell_type": "code",
   "execution_count": null,
   "metadata": {},
   "outputs": [],
   "source": []
  }
 ],
 "metadata": {
  "kernelspec": {
   "display_name": "Python 3",
   "language": "python",
   "name": "python3"
  },
  "language_info": {
   "codemirror_mode": {
    "name": "ipython",
    "version": 3
   },
   "file_extension": ".py",
   "mimetype": "text/x-python",
   "name": "python",
   "nbconvert_exporter": "python",
   "pygments_lexer": "ipython3",
   "version": "3.7.9"
  }
 },
 "nbformat": 4,
 "nbformat_minor": 4
}
