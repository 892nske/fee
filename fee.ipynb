{
 "cells": [
  {
   "cell_type": "code",
   "execution_count": 1,
   "metadata": {},
   "outputs": [],
   "source": [
    "import pandas as pd"
   ]
  },
  {
   "cell_type": "code",
   "execution_count": 16,
   "metadata": {},
   "outputs": [],
   "source": [
    "fee_rate = pd.read_csv('feerate.csv')"
   ]
  },
  {
   "cell_type": "code",
   "execution_count": 70,
   "metadata": {},
   "outputs": [],
   "source": [
    "def feecal(value,fee_rate,rem):\n",
    "    fee = 0\n",
    "    g = value\n",
    "    lor = 0\n",
    "    \n",
    "    rate = fee_rate[['upr',rem]]\n",
    "    rate.columns = ['upr', 'rate']\n",
    "    \n",
    "    for fr in rate.itertuples():\n",
    "        if value <= fr.upr:\n",
    "            fee = fee + g * fr.rate\n",
    "            break\n",
    "        else:\n",
    "            fee = fee + (fr.upr - lor) * fr.rate\n",
    "            g = value - fr.upr\n",
    "            lor = fr.upr\n",
    "    return fee"
   ]
  },
  {
   "cell_type": "code",
   "execution_count": 54,
   "metadata": {},
   "outputs": [],
   "source": [
    "g_test = [10000000,50000000,50050000,100000000,100050000,300000000,300050000,500000000,500050000,1000000000,1000050000]"
   ]
  },
  {
   "cell_type": "code",
   "execution_count": 71,
   "metadata": {},
   "outputs": [
    {
     "name": "stdout",
     "output_type": "stream",
     "text": [
      "10000000\t|\t132000.0\n",
      "50000000\t|\t660000.0\n",
      "50050000\t|\t660550.0\n",
      "100000000\t|\t1210000.0\n",
      "100050000\t|\t1210440.0\n",
      "300000000\t|\t2970000.0\n",
      "300050000\t|\t2970247.5\n",
      "500000000\t|\t3960000.0\n",
      "500050000\t|\t3960178.75\n",
      "1000000000\t|\t5747500.0\n",
      "1000050000\t|\t5747610.0\n"
     ]
    }
   ],
   "source": [
    "for gt in g_test:\n",
    "    print(str(gt) + '\\t|\\t' + str(feecal(gt,fee_rate,'const')))\n",
    "#     print(feecal(gt,fee_rate,'const'))"
   ]
  },
  {
   "cell_type": "code",
   "execution_count": null,
   "metadata": {},
   "outputs": [],
   "source": []
  }
 ],
 "metadata": {
  "kernelspec": {
   "display_name": "Python 3",
   "language": "python",
   "name": "python3"
  },
  "language_info": {
   "codemirror_mode": {
    "name": "ipython",
    "version": 3
   },
   "file_extension": ".py",
   "mimetype": "text/x-python",
   "name": "python",
   "nbconvert_exporter": "python",
   "pygments_lexer": "ipython3",
   "version": "3.7.9"
  }
 },
 "nbformat": 4,
 "nbformat_minor": 4
}
